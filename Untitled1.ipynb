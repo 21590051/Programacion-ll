{
  "nbformat": 4,
  "nbformat_minor": 0,
  "metadata": {
    "colab": {
      "name": "Untitled1.ipynb",
      "provenance": [],
      "collapsed_sections": [],
      "authorship_tag": "ABX9TyN6Cf5VYmLw5SMXUNu+V7FM",
      "include_colab_link": true
    },
    "kernelspec": {
      "name": "python3",
      "display_name": "Python 3"
    },
    "language_info": {
      "name": "python"
    }
  },
  "cells": [
    {
      "cell_type": "markdown",
      "metadata": {
        "id": "view-in-github",
        "colab_type": "text"
      },
      "source": [
        "<a href=\"https://colab.research.google.com/github/21590051/Programacion-ll/blob/main/Untitled1.ipynb\" target=\"_parent\"><img src=\"https://colab.research.google.com/assets/colab-badge.svg\" alt=\"Open In Colab\"/></a>"
      ]
    },
    {
      "cell_type": "code",
      "execution_count": null,
      "metadata": {
        "id": "yuTMdoqZ-zdC"
      },
      "outputs": [],
      "source": [
        ""
      ]
    },
    {
      "cell_type": "markdown",
      "source": [
        "Primer programa de hola mundo, \n",
        "Solicitamos el nombre del usuario y lo saludamos.\n",
        "Elaborado por: Daniela Carranza Cervantes.\n",
        "23/08/2022 "
      ],
      "metadata": {
        "id": "_FVztqdZ_AJu"
      }
    },
    {
      "cell_type": "code",
      "source": [
        "nombreAlumno = input(\"Escribe tu nombre\") \n",
        "print (\"Hola\",nombreAlumno,\" Hola como estas. \" )"
      ],
      "metadata": {
        "colab": {
          "base_uri": "https://localhost:8080/"
        },
        "id": "k_t6tUaQ_nRo",
        "outputId": "166bb06c-7d79-49cf-aba3-9172f1876b0a"
      },
      "execution_count": 3,
      "outputs": [
        {
          "output_type": "stream",
          "name": "stdout",
          "text": [
            "Escribe tu nombreDaniela\n",
            "Hola Daniela  Hola como estas. \n"
          ]
        }
      ]
    }
  ]
}